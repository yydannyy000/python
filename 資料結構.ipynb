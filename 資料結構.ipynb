{
 "cells": [
  {
   "cell_type": "markdown",
   "metadata": {
    "collapsed": true
   },
   "source": [
    "# Python物件:\n",
    "List, Tuple, Dict, Sets"
   ]
  },
  {
   "cell_type": "code",
   "execution_count": 2,
   "metadata": {},
   "outputs": [
    {
     "name": "stdout",
     "output_type": "stream",
     "text": [
      "python\n",
      "js\n",
      "SQL\n"
     ]
    }
   ],
   "source": [
    "#list串列\n",
    "my_list0 = []\n",
    "my_list1 = list()\n",
    "my_list2 = ['python', 'js', 'SQL'] \n",
    "print(my_list2[0])\n",
    "print(my_list2[1])\n",
    "print(my_list2[2])\n"
   ]
  },
  {
   "cell_type": "code",
   "execution_count": 2,
   "metadata": {},
   "outputs": [
    {
     "name": "stdout",
     "output_type": "stream",
     "text": [
      "4\n",
      "6\n"
     ]
    }
   ],
   "source": [
    "#附加於最後\n",
    "my_list2 = ['python', 'js', 'SQL'] \n",
    "my_list2.append(\"java\")\n",
    "my_list2[3]\n",
    "print(len(my_list2))\n",
    "print(len(my_list2[0]))"
   ]
  },
  {
   "cell_type": "code",
   "execution_count": 4,
   "metadata": {},
   "outputs": [
    {
     "name": "stdout",
     "output_type": "stream",
     "text": [
      "['java', 'python', 'js', 'go']\n"
     ]
    }
   ],
   "source": [
    "#新增至特定位置\n",
    "languages = ['python', 'js', 'go']\n",
    "languages.insert(0, 'java')\n",
    "print(languages)"
   ]
  },
  {
   "cell_type": "code",
   "execution_count": 5,
   "metadata": {},
   "outputs": [
    {
     "name": "stdout",
     "output_type": "stream",
     "text": [
      "['python', 'js']\n"
     ]
    }
   ],
   "source": [
    "#刪除\n",
    "languages = ['python', 'js', 'go']\n",
    "del languages[-1] \n",
    "print(languages)"
   ]
  },
  {
   "cell_type": "code",
   "execution_count": 7,
   "metadata": {},
   "outputs": [
    {
     "name": "stdout",
     "output_type": "stream",
     "text": [
      "3\n"
     ]
    }
   ],
   "source": [
    "#長度\n",
    "print(len(['python', 'js', 'go']) )"
   ]
  },
  {
   "cell_type": "code",
   "execution_count": 8,
   "metadata": {},
   "outputs": [
    {
     "name": "stdout",
     "output_type": "stream",
     "text": [
      "False\n"
     ]
    }
   ],
   "source": [
    "#檢查是否存在\n",
    "print('java' in ['python', 'js', 'go'])"
   ]
  },
  {
   "cell_type": "code",
   "execution_count": 10,
   "metadata": {},
   "outputs": [
    {
     "name": "stdout",
     "output_type": "stream",
     "text": [
      "[3, 2, 3, 2, 3, 2, 3, 2, 3, 2]\n"
     ]
    }
   ],
   "source": [
    "#串列重複\n",
    "a=[1,2]\n",
    "print(a*5)"
   ]
  },
  {
   "cell_type": "code",
   "execution_count": 25,
   "metadata": {},
   "outputs": [
    {
     "name": "stdout",
     "output_type": "stream",
     "text": [
      "[1, 2, 3]\n",
      "[1, 3, 5, 7, 9]\n",
      "[1, 2, 3, 4, 5, 6, 7]\n",
      "1\n",
      "7\n",
      "0\n",
      "1\n",
      "[7, 6, 5, 4, 3, 2, 1]\n",
      "[1, 2, 3, 4, 5, 6, 7]\n"
     ]
    }
   ],
   "source": [
    "#串列取值\n",
    "a=[1,2,3,4,5,6,7,8,9]\n",
    "b=a[0:3]   #範圍取值\n",
    "print(b)\n",
    "c=a[0:9:2]   #間隔取值\n",
    "print(c)\n",
    "del a[7:9]  #刪除串列某範圍的值\n",
    "print(a)\n",
    "print(min(a)) #最小值\n",
    "print(max(a)) #最大值\n",
    "print(a.index(1)) #1出現的索引值\n",
    "print(a.count(1)) #1出現的次數\n",
    "a.reverse()  #串列反轉\n",
    "print(a)\n",
    "a.sort()   #串列排序\n",
    "print(a)"
   ]
  },
  {
   "cell_type": "markdown",
   "metadata": {},
   "source": [
    "元組可以視為不可改變的串列\n",
    "tuple 跟 list 很像，但是我們不能新增刪除或者更新 tuple 的元素\n",
    "元組比起串列好處：\n",
    "    *佔用空間較少\n",
    "    *可以當做字典的 key（因不可變）\n",
    "    *具名 tuple 可當做物件替代\n",
    "    *當做函式引數\n"
   ]
  },
  {
   "cell_type": "code",
   "execution_count": 48,
   "metadata": {},
   "outputs": [
    {
     "name": "stdout",
     "output_type": "stream",
     "text": [
      "('python', 'js', 'go')\n",
      "python\n"
     ]
    }
   ],
   "source": [
    "a_list = ['python', 'js', 'go']\n",
    "a_tuple = tuple(a_list) \n",
    "print(a_tuple)\n",
    "print(a_tuple[0])"
   ]
  },
  {
   "cell_type": "markdown",
   "metadata": {},
   "source": [
    "字典(dictionary - dict)，為帶有鍵值（key）的 串列(list)\n"
   ]
  },
  {
   "cell_type": "code",
   "execution_count": 39,
   "metadata": {},
   "outputs": [
    {
     "name": "stdout",
     "output_type": "stream",
     "text": [
      "python\n",
      "{'name': 'python', 'version': '3.5'}\n",
      "dict_keys(['name', 'version'])\n",
      "dict_values(['python', '3.5'])\n",
      "dict_items([('name', 'python'), ('version', '3.5')])\n",
      "True\n"
     ]
    }
   ],
   "source": [
    "languages = {}\n",
    "languages = {'name':'python','version':'3.5'} \n",
    "print(languages['name']) \n",
    "print(languages)\n",
    "print(languages.keys())\n",
    "print(languages.values())\n",
    "print(languages.items()) \n",
    "print('name' in languages )\n",
    "    "
   ]
  },
  {
   "cell_type": "code",
   "execution_count": 51,
   "metadata": {},
   "outputs": [
    {
     "name": "stdout",
     "output_type": "stream",
     "text": [
      "{'name': 'python', 'version': '3.5'}\n",
      "{}\n",
      "python\n",
      "{'name': 'java', 'version': '3.5'}\n"
     ]
    }
   ],
   "source": [
    "a = {'name':'python','version':'3.5'} \n",
    "b=a.copy()\n",
    "print(b)\n",
    "b.clear()\n",
    "print(b)\n",
    "print(a.get('name'))\n",
    "a.update({'name':'java'})\n",
    "print(a)"
   ]
  },
  {
   "cell_type": "code",
   "execution_count": null,
   "metadata": {
    "collapsed": true
   },
   "outputs": [],
   "source": []
  }
 ],
 "metadata": {
  "kernelspec": {
   "display_name": "Python 3",
   "language": "python",
   "name": "python3"
  },
  "language_info": {
   "codemirror_mode": {
    "name": "ipython",
    "version": 3
   },
   "file_extension": ".py",
   "mimetype": "text/x-python",
   "name": "python",
   "nbconvert_exporter": "python",
   "pygments_lexer": "ipython3",
   "version": "3.7.1"
  }
 },
 "nbformat": 4,
 "nbformat_minor": 2
}
