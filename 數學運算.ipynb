{
 "cells": [
  {
   "cell_type": "code",
   "execution_count": 2,
   "metadata": {},
   "outputs": [
    {
     "name": "stdout",
     "output_type": "stream",
     "text": [
      "b是比較大的數\n"
     ]
    }
   ],
   "source": [
    "a=3\n",
    "b=4\n",
    "if a <= b:\n",
    "    print(\"b是比較大的數\")\n",
    "else:\n",
    "    print(\"a是比較大的數\")"
   ]
  },
  {
   "cell_type": "code",
   "execution_count": 5,
   "metadata": {},
   "outputs": [
    {
     "name": "stdout",
     "output_type": "stream",
     "text": [
      "55\n"
     ]
    }
   ],
   "source": [
    "sum=0\n",
    "for count in range(1, 11,1):\n",
    "    sum += count\n",
    "print(sum)"
   ]
  },
  {
   "cell_type": "code",
   "execution_count": 1,
   "metadata": {},
   "outputs": [
    {
     "name": "stdout",
     "output_type": "stream",
     "text": [
      "1+2+3+...+10累加結果 55\n"
     ]
    }
   ],
   "source": [
    "sum = 0 #儲存加總結果\n",
    "for count in range(11): #數值1~10\n",
    "   sum += count #將數值累加\n",
    "print('1+2+3+...+10累加結果', sum)"
   ]
  },
  {
   "cell_type": "code",
   "execution_count": 6,
   "metadata": {},
   "outputs": [
    {
     "name": "stdout",
     "output_type": "stream",
     "text": [
      "f\n",
      "o\n",
      "r\n",
      " \n",
      "s\n",
      "t\n",
      "a\n",
      "t\n",
      "e\n",
      "m\n",
      "e\n",
      "n\n",
      "t\n",
      "end list\n"
     ]
    }
   ],
   "source": [
    "mylist=\"for statement\"\n",
    "for word in mylist:\n",
    "    print(word)\n",
    "else:\n",
    "    print(\"end list\")"
   ]
  },
  {
   "cell_type": "code",
   "execution_count": 4,
   "metadata": {},
   "outputs": [
    {
     "name": "stdout",
     "output_type": "stream",
     "text": [
      "雞有 23 隻,兔子有 12 隻\n"
     ]
    }
   ],
   "source": [
    "#雞兔同籠。若共有35個頭，94隻腳，問共有幾隻雞?幾隻兔?\n",
    "for chicken in range(0, 35):\n",
    "    rabbit=35-chicken\n",
    "    if 2*chicken+4*rabbit==94:\n",
    "        print(\"雞有\",chicken,\"隻,兔子有\",rabbit,\"隻\")\n",
    "        break\n",
    "else:\n",
    "    print(\"無解\")\n"
   ]
  },
  {
   "cell_type": "code",
   "execution_count": 6,
   "metadata": {},
   "outputs": [
    {
     "name": "stdout",
     "output_type": "stream",
     "text": [
      "1+2+3+...+ 10 累加結果 55\n"
     ]
    }
   ],
   "source": [
    "#while迴圈\n",
    "sum = 0 #儲存加總結果\n",
    "count = 1 #計數器\n",
    "while count <= 10:  \n",
    "   sum += count #將數值累加\n",
    "   count += 1\n",
    "print(\"1+2+3+...+ 10 累加結果\", sum) #輸出累加結果\n"
   ]
  },
  {
   "cell_type": "code",
   "execution_count": 11,
   "metadata": {},
   "outputs": [
    {
     "name": "stdout",
     "output_type": "stream",
     "text": [
      "37 年以後，存款加倍，為 20065 元\n"
     ]
    }
   ],
   "source": [
    "#本金10000元，年利率1.9%，請問多久銀行存款會加倍\n",
    "x=10000\n",
    "years=0\n",
    "while x <= 20000:\n",
    "    years+=1\n",
    "    x=x*1.019\n",
    "print(str(years),\"年以後，存款加倍，為\",int(x),\"元\")"
   ]
  },
  {
   "cell_type": "code",
   "execution_count": 20,
   "metadata": {},
   "outputs": [
    {
     "name": "stdout",
     "output_type": "stream",
     "text": [
      "輸入1~100之間的數字 --> 1\n",
      "答錯了\n",
      "輸入1~100之間的數字 --> 11\n",
      "你猜對了，數字是： 11\n"
     ]
    }
   ],
   "source": [
    "#猜數字\n",
    "number=11\n",
    "while True:\n",
    "    guess = int(input('輸入1~100之間的數字 --> '))\n",
    "    if guess == number:\n",
    "        print('你猜對了，數字是：', number)\n",
    "        break\n",
    "    else:\n",
    "        print(\"答錯了\")\n"
   ]
  },
  {
   "cell_type": "code",
   "execution_count": null,
   "metadata": {
    "collapsed": true
   },
   "outputs": [],
   "source": []
  }
 ],
 "metadata": {
  "kernelspec": {
   "display_name": "Python 3",
   "language": "python",
   "name": "python3"
  },
  "language_info": {
   "codemirror_mode": {
    "name": "ipython",
    "version": 3
   },
   "file_extension": ".py",
   "mimetype": "text/x-python",
   "name": "python",
   "nbconvert_exporter": "python",
   "pygments_lexer": "ipython3",
   "version": "3.6.3"
  }
 },
 "nbformat": 4,
 "nbformat_minor": 2
}
